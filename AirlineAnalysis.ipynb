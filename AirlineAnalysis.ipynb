{
 "cells": [
  {
   "cell_type": "code",
   "execution_count": null,
   "metadata": {},
   "outputs": [],
   "source": [
    "import pandas as pd\n",
    "import numpy as np\n",
    "import seaborn as sns\n",
    "import statsmodels\n",
    "import matplotlib.pyplot as plt\n",
    "import math"
   ]
  },
  {
   "cell_type": "code",
   "execution_count": null,
   "metadata": {},
   "outputs": [],
   "source": [
    "## Reads in data from the file\n",
    "\n",
    "flight = pd.read_csv(\"flight.csv\")\n",
    "print(flight.head()) "
   ]
  },
  {
   "cell_type": "code",
   "execution_count": null,
   "metadata": {},
   "outputs": [],
   "source": [
    "## Coach Price Distribution\n",
    "print(np.mean(flight.coach_price)) #Shows the average price of tickets in coach\n",
    "print(np.median(flight.coach_price)) #Shows the median price of tickets in coach\n",
    "\n",
    "sns.histplot(flight.coach_price)\n",
    "plt.show()\n",
    "plt.clf()"
   ]
  },
  {
   "cell_type": "code",
   "execution_count": null,
   "metadata": {},
   "outputs": [],
   "source": [
    "## Coach Price for 8-Hour Flights\n",
    "print(np.mean(flight.coach_price[flight.hours == 8]))\n",
    "print(np.median(flight.coach_price[flight.hours == 8]))\n",
    "\n",
    "sns.histplot(flight.coach_price[flight.hours == 8])\n",
    "plt.show()\n",
    "plt.clf()"
   ]
  },
  {
   "cell_type": "code",
   "execution_count": null,
   "metadata": {},
   "outputs": [],
   "source": [
    "## Delay Distrubtion of flights with 500 minutes or less\n",
    "sns.histplot(flight.delay[flight.delay <= 500])\n",
    "plt.show()\n",
    "plt.clf()"
   ]
  },
  {
   "cell_type": "code",
   "execution_count": null,
   "metadata": {},
   "outputs": [],
   "source": [
    "## Coach vs First-Class Price\n",
    "\n",
    "flight_sub = flight.sample(n = int(flight.shape[0]*0.1))\n",
    " \n",
    "sns.lmplot(x = 'coach_price', y = 'firstclass_price', data = flight_sub, line_kws={'color': 'black'})\n",
    "plt.show()\n",
    "plt.clf()"
   ]
  },
  {
   "cell_type": "code",
   "execution_count": null,
   "metadata": {},
   "outputs": [],
   "source": [
    "## Coach Price by Inflight Amenities\n",
    "\n",
    "# Presence of Inflight Meals\n",
    "sns.histplot(flight, x = 'coach_price', hue = flight.inflight_meal)\n",
    "plt.show()\n",
    "plt.clf()\n",
    "\n",
    "## Presence of Inflight WiFi\n",
    "sns.histplot(flight, x = 'coach_price', hue = flight.inflight_entertainment)\n",
    "plt.show()\n",
    "plt.clf()"
   ]
  },
  {
   "cell_type": "code",
   "execution_count": null,
   "metadata": {},
   "outputs": [],
   "source": [
    "## Flight Duration vs Passengers\n",
    "sns.lmplot(x = \"hours\", y = \"passengers\", data = flight_sub, x_jitter = 0.25, scatter_kws={\"s\": 5, \"alpha\":0.2}, fit_reg = False)\n",
    "plt.show()\n",
    "plt.clf()"
   ]
  },
  {
   "cell_type": "code",
   "execution_count": null,
   "metadata": {},
   "outputs": [],
   "source": [
    "## Coach vs First-Class Price by Weekend\n",
    "sns.lmplot(x='coach_price', y = 'firstclass_price', hue = 'weekend', data = flight_sub, fit_reg = False)\n",
    "plt.show()\n",
    "plt.clf()"
   ]
  },
  {
   "cell_type": "code",
   "execution_count": null,
   "metadata": {},
   "outputs": [],
   "source": [
    "## Price Distribution by Day and Redeye\n",
    "sns.boxplot(x = 'day_of_week', y = 'coach_price', hue = 'redeye', data = flight)\n",
    "plt.show()\n",
    "plt.clf()"
   ]
  }
 ],
 "metadata": {
  "kernelspec": {
   "display_name": "Python 3",
   "language": "python",
   "name": "python3"
  },
  "language_info": {
   "codemirror_mode": {
    "name": "ipython",
    "version": 3
   },
   "file_extension": ".py",
   "mimetype": "text/x-python",
   "name": "python",
   "nbconvert_exporter": "python",
   "pygments_lexer": "ipython3",
   "version": "3.12.7"
  }
 },
 "nbformat": 4,
 "nbformat_minor": 2
}
